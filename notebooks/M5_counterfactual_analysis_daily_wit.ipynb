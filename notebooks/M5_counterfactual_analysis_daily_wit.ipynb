{
 "cells": [
  {
   "cell_type": "code",
   "execution_count": 1,
   "id": "7803f73e",
   "metadata": {},
   "outputs": [],
   "source": [
    "import os\n",
    "import pandas as pd\n",
    "import numpy as np\n",
    "import joblib"
   ]
  },
  {
   "cell_type": "code",
   "execution_count": 2,
   "id": "8157587f",
   "metadata": {},
   "outputs": [],
   "source": [
    "#!python -m pip install -U pip --user"
   ]
  },
  {
   "cell_type": "code",
   "execution_count": 3,
   "id": "876a1ef9",
   "metadata": {},
   "outputs": [],
   "source": [
    "DATA_PATH = os.path.abspath('./results_1_day_CA_TX_WI/')"
   ]
  },
  {
   "cell_type": "markdown",
   "id": "757c6947",
   "metadata": {},
   "source": [
    "# WitWidget"
   ]
  },
  {
   "cell_type": "code",
   "execution_count": 4,
   "id": "cd2b7a4f",
   "metadata": {},
   "outputs": [
    {
     "name": "stderr",
     "output_type": "stream",
     "text": [
      "Installing C:\\Users\\priyanshusinha\\anaconda3\\lib\\site-packages\\witwidget\\static -> wit-widget\n",
      "- Validating: ok\n",
      "\n",
      "    To initialize this nbextension in the browser every time the notebook (or other app) loads:\n",
      "    \n",
      "          jupyter nbextension enable witwidget --py --sys-prefix\n",
      "    \n",
      "Enabling notebook extension wit-widget/extension...\n",
      "      - Validating: ok\n"
     ]
    }
   ],
   "source": [
    "#!pip3 install witwidget\n",
    "!jupyter nbextension install --py --symlink --sys-prefix witwidget\n",
    "!jupyter nbextension enable --py --sys-prefix witwidget"
   ]
  },
  {
   "cell_type": "code",
   "execution_count": 5,
   "id": "369c828f",
   "metadata": {},
   "outputs": [],
   "source": [
    "CSV_PATH = os.path.join(DATA_PATH, 'combined_test_data_points.csv')\n",
    "MODEL_PATH = os.path.join(DATA_PATH, 'M5_LSTM_CA_TX_WI.h5')\n",
    "SCALER_PATH = os.path.join(DATA_PATH, 'scaler_instance_mn_mx.bz')"
   ]
  },
  {
   "cell_type": "code",
   "execution_count": 6,
   "id": "3ee34118",
   "metadata": {},
   "outputs": [],
   "source": [
    "test_x = pd.read_csv(CSV_PATH)"
   ]
  },
  {
   "cell_type": "code",
   "execution_count": 7,
   "id": "d0cdabc2",
   "metadata": {},
   "outputs": [
    {
     "data": {
      "text/html": [
       "<div>\n",
       "<style scoped>\n",
       "    .dataframe tbody tr th:only-of-type {\n",
       "        vertical-align: middle;\n",
       "    }\n",
       "\n",
       "    .dataframe tbody tr th {\n",
       "        vertical-align: top;\n",
       "    }\n",
       "\n",
       "    .dataframe thead th {\n",
       "        text-align: right;\n",
       "    }\n",
       "</style>\n",
       "<table border=\"1\" class=\"dataframe\">\n",
       "  <thead>\n",
       "    <tr style=\"text-align: right;\">\n",
       "      <th></th>\n",
       "      <th>CA</th>\n",
       "      <th>TX</th>\n",
       "      <th>WI</th>\n",
       "      <th>snap_CA</th>\n",
       "      <th>snap_TX</th>\n",
       "      <th>snap_WI</th>\n",
       "      <th>sales_price_min</th>\n",
       "      <th>sales_price_max</th>\n",
       "      <th>sales_price_mean</th>\n",
       "      <th>weekday_Friday</th>\n",
       "      <th>...</th>\n",
       "      <th>WI_lagged_24</th>\n",
       "      <th>CA_lagged_25</th>\n",
       "      <th>TX_lagged_25</th>\n",
       "      <th>WI_lagged_25</th>\n",
       "      <th>CA_lagged_26</th>\n",
       "      <th>TX_lagged_26</th>\n",
       "      <th>WI_lagged_26</th>\n",
       "      <th>CA_lagged_27</th>\n",
       "      <th>TX_lagged_27</th>\n",
       "      <th>WI_lagged_27</th>\n",
       "    </tr>\n",
       "  </thead>\n",
       "  <tbody>\n",
       "    <tr>\n",
       "      <th>0</th>\n",
       "      <td>0.03027</td>\n",
       "      <td>0.1367</td>\n",
       "      <td>0.1797</td>\n",
       "      <td>1</td>\n",
       "      <td>1</td>\n",
       "      <td>0</td>\n",
       "      <td>0.8335</td>\n",
       "      <td>0.0</td>\n",
       "      <td>1.000</td>\n",
       "      <td>1</td>\n",
       "      <td>...</td>\n",
       "      <td>0.7456</td>\n",
       "      <td>0.8125</td>\n",
       "      <td>0.7686</td>\n",
       "      <td>0.7456</td>\n",
       "      <td>0.8125</td>\n",
       "      <td>0.7686</td>\n",
       "      <td>0.7456</td>\n",
       "      <td>0.7540</td>\n",
       "      <td>0.6875</td>\n",
       "      <td>0.3647</td>\n",
       "    </tr>\n",
       "    <tr>\n",
       "      <th>1</th>\n",
       "      <td>0.03027</td>\n",
       "      <td>0.1367</td>\n",
       "      <td>0.1797</td>\n",
       "      <td>1</td>\n",
       "      <td>1</td>\n",
       "      <td>0</td>\n",
       "      <td>0.8335</td>\n",
       "      <td>0.0</td>\n",
       "      <td>0.625</td>\n",
       "      <td>1</td>\n",
       "      <td>...</td>\n",
       "      <td>0.7456</td>\n",
       "      <td>0.8125</td>\n",
       "      <td>0.7686</td>\n",
       "      <td>0.7456</td>\n",
       "      <td>0.7540</td>\n",
       "      <td>0.6875</td>\n",
       "      <td>0.3647</td>\n",
       "      <td>0.7540</td>\n",
       "      <td>0.6875</td>\n",
       "      <td>0.3647</td>\n",
       "    </tr>\n",
       "    <tr>\n",
       "      <th>2</th>\n",
       "      <td>0.03027</td>\n",
       "      <td>0.1367</td>\n",
       "      <td>0.1797</td>\n",
       "      <td>1</td>\n",
       "      <td>1</td>\n",
       "      <td>0</td>\n",
       "      <td>0.8335</td>\n",
       "      <td>0.0</td>\n",
       "      <td>0.000</td>\n",
       "      <td>1</td>\n",
       "      <td>...</td>\n",
       "      <td>0.7456</td>\n",
       "      <td>0.7540</td>\n",
       "      <td>0.6875</td>\n",
       "      <td>0.3647</td>\n",
       "      <td>0.7540</td>\n",
       "      <td>0.6875</td>\n",
       "      <td>0.3647</td>\n",
       "      <td>0.7540</td>\n",
       "      <td>0.6875</td>\n",
       "      <td>0.3647</td>\n",
       "    </tr>\n",
       "    <tr>\n",
       "      <th>3</th>\n",
       "      <td>0.49600</td>\n",
       "      <td>0.3682</td>\n",
       "      <td>0.6100</td>\n",
       "      <td>1</td>\n",
       "      <td>0</td>\n",
       "      <td>1</td>\n",
       "      <td>0.8335</td>\n",
       "      <td>0.0</td>\n",
       "      <td>0.000</td>\n",
       "      <td>0</td>\n",
       "      <td>...</td>\n",
       "      <td>0.3647</td>\n",
       "      <td>0.7540</td>\n",
       "      <td>0.6875</td>\n",
       "      <td>0.3647</td>\n",
       "      <td>0.7540</td>\n",
       "      <td>0.6875</td>\n",
       "      <td>0.3647</td>\n",
       "      <td>0.2627</td>\n",
       "      <td>0.3643</td>\n",
       "      <td>0.2524</td>\n",
       "    </tr>\n",
       "    <tr>\n",
       "      <th>4</th>\n",
       "      <td>0.49600</td>\n",
       "      <td>0.3682</td>\n",
       "      <td>0.6100</td>\n",
       "      <td>1</td>\n",
       "      <td>0</td>\n",
       "      <td>1</td>\n",
       "      <td>0.8335</td>\n",
       "      <td>0.0</td>\n",
       "      <td>1.000</td>\n",
       "      <td>0</td>\n",
       "      <td>...</td>\n",
       "      <td>0.3647</td>\n",
       "      <td>0.7540</td>\n",
       "      <td>0.6875</td>\n",
       "      <td>0.3647</td>\n",
       "      <td>0.2627</td>\n",
       "      <td>0.3643</td>\n",
       "      <td>0.2524</td>\n",
       "      <td>0.2627</td>\n",
       "      <td>0.3643</td>\n",
       "      <td>0.2524</td>\n",
       "    </tr>\n",
       "  </tbody>\n",
       "</table>\n",
       "<p>5 rows × 105 columns</p>\n",
       "</div>"
      ],
      "text/plain": [
       "        CA      TX      WI  snap_CA  snap_TX  snap_WI  sales_price_min  \\\n",
       "0  0.03027  0.1367  0.1797        1        1        0           0.8335   \n",
       "1  0.03027  0.1367  0.1797        1        1        0           0.8335   \n",
       "2  0.03027  0.1367  0.1797        1        1        0           0.8335   \n",
       "3  0.49600  0.3682  0.6100        1        0        1           0.8335   \n",
       "4  0.49600  0.3682  0.6100        1        0        1           0.8335   \n",
       "\n",
       "   sales_price_max  sales_price_mean  weekday_Friday  ...  WI_lagged_24  \\\n",
       "0              0.0             1.000               1  ...        0.7456   \n",
       "1              0.0             0.625               1  ...        0.7456   \n",
       "2              0.0             0.000               1  ...        0.7456   \n",
       "3              0.0             0.000               0  ...        0.3647   \n",
       "4              0.0             1.000               0  ...        0.3647   \n",
       "\n",
       "   CA_lagged_25  TX_lagged_25  WI_lagged_25  CA_lagged_26  TX_lagged_26  \\\n",
       "0        0.8125        0.7686        0.7456        0.8125        0.7686   \n",
       "1        0.8125        0.7686        0.7456        0.7540        0.6875   \n",
       "2        0.7540        0.6875        0.3647        0.7540        0.6875   \n",
       "3        0.7540        0.6875        0.3647        0.7540        0.6875   \n",
       "4        0.7540        0.6875        0.3647        0.2627        0.3643   \n",
       "\n",
       "   WI_lagged_26  CA_lagged_27  TX_lagged_27  WI_lagged_27  \n",
       "0        0.7456        0.7540        0.6875        0.3647  \n",
       "1        0.3647        0.7540        0.6875        0.3647  \n",
       "2        0.3647        0.7540        0.6875        0.3647  \n",
       "3        0.3647        0.2627        0.3643        0.2524  \n",
       "4        0.2524        0.2627        0.3643        0.2524  \n",
       "\n",
       "[5 rows x 105 columns]"
      ]
     },
     "execution_count": 7,
     "metadata": {},
     "output_type": "execute_result"
    }
   ],
   "source": [
    "test_x.head()"
   ]
  },
  {
   "cell_type": "code",
   "execution_count": 8,
   "id": "d2f0f30c",
   "metadata": {},
   "outputs": [],
   "source": [
    "import tensorflow as tf"
   ]
  },
  {
   "cell_type": "code",
   "execution_count": 9,
   "id": "25b82c63",
   "metadata": {},
   "outputs": [],
   "source": [
    "from tensorflow.keras.models import load_model"
   ]
  },
  {
   "cell_type": "code",
   "execution_count": 10,
   "id": "5abc8899",
   "metadata": {},
   "outputs": [],
   "source": [
    "model = load_model(MODEL_PATH)"
   ]
  },
  {
   "cell_type": "code",
   "execution_count": 11,
   "id": "14229c08",
   "metadata": {},
   "outputs": [
    {
     "name": "stdout",
     "output_type": "stream",
     "text": [
      "Model: \"sequential\"\n",
      "_________________________________________________________________\n",
      " Layer (type)                Output Shape              Param #   \n",
      "=================================================================\n",
      " lstm (LSTM)                 (None, 28, 256)           370688    \n",
      "                                                                 \n",
      " lstm_1 (LSTM)               (None, 128)               197120    \n",
      "                                                                 \n",
      " repeat_vector (RepeatVector  (None, 1, 128)           0         \n",
      " )                                                               \n",
      "                                                                 \n",
      " lstm_2 (LSTM)               (None, 1, 128)            131584    \n",
      "                                                                 \n",
      " lstm_3 (LSTM)               (None, 1, 256)            394240    \n",
      "                                                                 \n",
      " time_distributed (TimeDistr  (None, 1, 256)           65792     \n",
      " ibuted)                                                         \n",
      "                                                                 \n",
      " dropout (Dropout)           (None, 1, 256)            0         \n",
      "                                                                 \n",
      " time_distributed_1 (TimeDis  (None, 1, 128)           32896     \n",
      " tributed)                                                       \n",
      "                                                                 \n",
      " dropout_1 (Dropout)         (None, 1, 128)            0         \n",
      "                                                                 \n",
      " time_distributed_2 (TimeDis  (None, 1, 10)            1290      \n",
      " tributed)                                                       \n",
      "                                                                 \n",
      " dropout_2 (Dropout)         (None, 1, 10)             0         \n",
      "                                                                 \n",
      " time_distributed_3 (TimeDis  (None, 1, 3)             33        \n",
      " tributed)                                                       \n",
      "                                                                 \n",
      "=================================================================\n",
      "Total params: 1,193,643\n",
      "Trainable params: 1,193,643\n",
      "Non-trainable params: 0\n",
      "_________________________________________________________________\n"
     ]
    }
   ],
   "source": [
    "model.summary()"
   ]
  },
  {
   "cell_type": "code",
   "execution_count": 12,
   "id": "415383b2",
   "metadata": {},
   "outputs": [],
   "source": [
    "from sklearn.preprocessing import MinMaxScaler"
   ]
  },
  {
   "cell_type": "code",
   "execution_count": 13,
   "id": "1ebd4026",
   "metadata": {},
   "outputs": [],
   "source": [
    "scaler = joblib.load(SCALER_PATH)"
   ]
  },
  {
   "cell_type": "code",
   "execution_count": 29,
   "id": "5c590330",
   "metadata": {},
   "outputs": [],
   "source": [
    "def get_prediction(example):\n",
    "    #print(example)\n",
    "    start_test = test_x[:28].values\n",
    "    n_past = 28\n",
    "    n_future = 1\n",
    "    test_X = []\n",
    "    example = np.array(example)\n",
    "    print(example.shape)\n",
    "    example_processed = np.concatenate([start_test, example])\n",
    "    print(example_processed.shape)\n",
    "    for i in range(n_past, len(example_processed) - n_future + 1):\n",
    "        test_X.append(example_processed[i - n_past:i, 0:example_processed.shape[1]])\n",
    "    test_X = np.array(test_X)\n",
    "    print(test_X.shape)\n",
    "    prediction = model.predict(test_X)\n",
    "    return prediction[:, 0]"
   ]
  },
  {
   "cell_type": "code",
   "execution_count": 30,
   "id": "1864d143",
   "metadata": {},
   "outputs": [
    {
     "name": "stdout",
     "output_type": "stream",
     "text": [
      "(2, 105)\n",
      "(30, 105)\n",
      "(2, 28, 105)\n",
      "1/1 [==============================] - 0s 21ms/step\n"
     ]
    },
    {
     "data": {
      "text/plain": [
       "array([[4832.366 , 3177.9058, 3024.8374],\n",
       "       [4809.972 , 3163.1812, 3010.8225]], dtype=float32)"
      ]
     },
     "execution_count": 30,
     "metadata": {},
     "output_type": "execute_result"
    }
   ],
   "source": [
    "get_prediction(test_x[27:29].values[:].tolist())"
   ]
  },
  {
   "cell_type": "code",
   "execution_count": 31,
   "id": "769aec03",
   "metadata": {},
   "outputs": [],
   "source": [
    "import witwidget"
   ]
  },
  {
   "cell_type": "code",
   "execution_count": 32,
   "id": "09c0746e",
   "metadata": {},
   "outputs": [],
   "source": [
    "from witwidget.notebook.visualization import WitConfigBuilder\n",
    "from witwidget.notebook.visualization import WitWidget"
   ]
  },
  {
   "cell_type": "code",
   "execution_count": 36,
   "id": "590b2695",
   "metadata": {},
   "outputs": [],
   "source": [
    "config_builder = WitConfigBuilder(test_x[27:].values[:].tolist(), feature_names = test_x.columns.tolist()).set_custom_predict_fn(get_prediction)"
   ]
  },
  {
   "cell_type": "code",
   "execution_count": 37,
   "id": "75629675",
   "metadata": {},
   "outputs": [
    {
     "data": {
      "text/html": [
       "<style>.container { width:100% !important; }</style>"
      ],
      "text/plain": [
       "<IPython.core.display.HTML object>"
      ]
     },
     "metadata": {},
     "output_type": "display_data"
    }
   ],
   "source": [
    "ww = WitWidget(config_builder, height=800)"
   ]
  },
  {
   "cell_type": "code",
   "execution_count": 38,
   "id": "deb764df",
   "metadata": {},
   "outputs": [
    {
     "data": {
      "application/vnd.jupyter.widget-view+json": {
       "model_id": "f45f8f88905549e7a54b620dc55e54fd",
       "version_major": 2,
       "version_minor": 0
      },
      "text/plain": [
       "WitWidget(config={'model_type': 'classification', 'label_vocab': [], 'feature_names': ['CA', 'TX', 'WI', 'snap…"
      ]
     },
     "metadata": {},
     "output_type": "display_data"
    },
    {
     "name": "stdout",
     "output_type": "stream",
     "text": [
      "(290, 105)\n",
      "(318, 105)\n",
      "(290, 28, 105)\n",
      "10/10 [==============================] - 0s 21ms/step\n",
      "(1, 105)\n",
      "(29, 105)\n",
      "(1, 28, 105)\n",
      "1/1 [==============================] - 0s 22ms/step\n"
     ]
    }
   ],
   "source": [
    "ww.render()"
   ]
  },
  {
   "cell_type": "code",
   "execution_count": null,
   "id": "7990dc2b",
   "metadata": {},
   "outputs": [],
   "source": []
  }
 ],
 "metadata": {
  "kernelspec": {
   "display_name": "Python 3 (ipykernel)",
   "language": "python",
   "name": "python3"
  },
  "language_info": {
   "codemirror_mode": {
    "name": "ipython",
    "version": 3
   },
   "file_extension": ".py",
   "mimetype": "text/x-python",
   "name": "python",
   "nbconvert_exporter": "python",
   "pygments_lexer": "ipython3",
   "version": "3.9.13"
  }
 },
 "nbformat": 4,
 "nbformat_minor": 5
}
